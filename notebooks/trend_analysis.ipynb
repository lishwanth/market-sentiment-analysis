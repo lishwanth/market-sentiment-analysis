{
 "cells": [
  {
   "cell_type": "markdown",
   "id": "41b5786e",
   "metadata": {},
   "source": [
    "# Trend Analysis and Visualization"
   ]
  },
  {
   "cell_type": "code",
   "execution_count": null,
   "id": "10c90893",
   "metadata": {},
   "outputs": [],
   "source": [
    "import pandas as pd\n",
    "import matplotlib.pyplot as plt\n",
    "from datasets import load_from_disk\n",
    "\n",
    "# Load the processed dataset\n",
    "processed_data_dir = '../data/processed/'\n",
    "dataset = load_from_disk(processed_data_dir)\n",
    "\n",
    "# Convert to pandas DataFrame\n",
    "df = pd.DataFrame(dataset['train'])\n",
    "\n",
    "# Convert date to datetime\n",
    "df['date'] = pd.to_datetime(df['date'])\n",
    "\n",
    "# Group by month and calculate sentiment trends\n",
    "sentiment_over_time = df.groupby(df['date'].dt.to_period('M')).mean()\n",
    "\n",
    "# Plot sentiment trends over time\n",
    "plt.figure(figsize=(10, 5))\n",
    "plt.plot(sentiment_over_time.index.to_timestamp(), sentiment_over_time['sentiment'], marker='o')\n",
    "plt.title('Sentiment Trends Over Time')\n",
    "plt.xlabel('Date')\n",
    "plt.ylabel('Average Sentiment')\n",
    "plt.grid(True)\n",
    "plt.show()\n"
   ]
  }
 ],
 "metadata": {},
 "nbformat": 4,
 "nbformat_minor": 5
}
