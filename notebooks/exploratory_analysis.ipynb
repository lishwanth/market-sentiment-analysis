{
 "cells": [
  {
   "cell_type": "markdown",
   "id": "5918d502",
   "metadata": {},
   "source": [
    "# Exploratory Data Analysis (EDA)"
   ]
  },
  {
   "cell_type": "code",
   "execution_count": null,
   "id": "bd9a56fb",
   "metadata": {},
   "outputs": [],
   "source": [
    "import pandas as pd\n",
    "import matplotlib.pyplot as plt\n",
    "from datasets import load_from_disk\n",
    "\n",
    "# Load the processed dataset\n",
    "processed_data_dir = '../data/processed/'\n",
    "dataset = load_from_disk(processed_data_dir)\n",
    "\n",
    "# Convert to pandas DataFrame\n",
    "df = pd.DataFrame(dataset['train'])\n",
    "\n",
    "# Basic EDA\n",
    "print(\"Dataset Overview:\")\n",
    "print(df.head())\n",
    "\n",
    "# Distribution of sentiments\n",
    "print(\"Sentiment Distribution:\")\n",
    "print(df['label'].value_counts())\n",
    "\n",
    "# Plot sentiment distribution\n",
    "df['label'].value_counts().plot(kind='bar', title='Sentiment Distribution')\n",
    "plt.show()\n",
    "\n",
    "# Example of text data\n",
    "print(\"Example of Preprocessed Text Data:\")\n",
    "print(df['text'][0])\n"
   ]
  }
 ],
 "metadata": {},
 "nbformat": 4,
 "nbformat_minor": 5
}
