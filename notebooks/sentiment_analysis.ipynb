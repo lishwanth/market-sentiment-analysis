{
 "cells": [
  {
   "cell_type": "markdown",
   "id": "c277c4be",
   "metadata": {},
   "source": [
    "# Sentiment Analysis using Pre-Trained BERT"
   ]
  },
  {
   "cell_type": "code",
   "execution_count": null,
   "id": "ef041c49",
   "metadata": {},
   "outputs": [],
   "source": [
    "import torch\n",
    "from transformers import BertTokenizer, BertForSequenceClassification\n",
    "from datasets import load_from_disk\n",
    "\n",
    "# Load model and tokenizer\n",
    "model_path = '../models/sentiment_model'\n",
    "tokenizer = BertTokenizer.from_pretrained(model_path)\n",
    "model = BertForSequenceClassification.from_pretrained(model_path)\n",
    "\n",
    "# Load the processed dataset\n",
    "processed_data_dir = '../data/processed/'\n",
    "dataset = load_from_disk(processed_data_dir)\n",
    "\n",
    "# Predict sentiment for the first few entries\n",
    "def predict_sentiment(text):\n",
    "    inputs = tokenizer(text, return_tensors='pt', truncation=True, padding=True)\n",
    "    outputs = model(**inputs)\n",
    "    prediction = torch.argmax(outputs.logits, dim=1).item()\n",
    "    sentiment = 'Positive' if prediction == 1 else 'Negative' if prediction == 0 else 'Neutral'\n",
    "    return sentiment\n",
    "\n",
    "# Apply sentiment prediction to the dataset\n",
    "dataset = dataset.map(lambda x: {'sentiment': predict_sentiment(x['text'])})\n",
    "\n",
    "# Display results\n",
    "print(\"Sample Sentiments:\")\n",
    "print(dataset['train'][:5])\n"
   ]
  }
 ],
 "metadata": {},
 "nbformat": 4,
 "nbformat_minor": 5
}
